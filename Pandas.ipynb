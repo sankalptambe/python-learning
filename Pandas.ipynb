{
 "cells": [
  {
   "cell_type": "markdown",
   "metadata": {},
   "source": [
    "# Pandas\n",
    "Pandas is a fast, powerful, flexible and easy to use open source data analysis and manipulation tool,\n",
    "built on top of the Python programming language."
   ]
  },
  {
   "cell_type": "code",
   "execution_count": 1,
   "metadata": {},
   "outputs": [],
   "source": [
    "import pandas as pd"
   ]
  },
  {
   "cell_type": "code",
   "execution_count": 2,
   "metadata": {},
   "outputs": [],
   "source": [
    "df = pd.read_csv('data/survey_results_public.csv')"
   ]
  },
  {
   "cell_type": "code",
   "execution_count": 3,
   "metadata": {},
   "outputs": [
    {
     "data": {
      "text/plain": [
       "(64461, 61)"
      ]
     },
     "execution_count": 3,
     "metadata": {},
     "output_type": "execute_result"
    }
   ],
   "source": [
    "# shape of dataframe\n",
    "df.shape"
   ]
  },
  {
   "cell_type": "code",
   "execution_count": 4,
   "metadata": {
    "scrolled": true
   },
   "outputs": [
    {
     "name": "stdout",
     "output_type": "stream",
     "text": [
      "<class 'pandas.core.frame.DataFrame'>\n",
      "RangeIndex: 64461 entries, 0 to 64460\n",
      "Data columns (total 61 columns):\n",
      " #   Column                        Non-Null Count  Dtype  \n",
      "---  ------                        --------------  -----  \n",
      " 0   Respondent                    64461 non-null  int64  \n",
      " 1   MainBranch                    64162 non-null  object \n",
      " 2   Hobbyist                      64416 non-null  object \n",
      " 3   Age                           45446 non-null  float64\n",
      " 4   Age1stCode                    57900 non-null  object \n",
      " 5   CompFreq                      40069 non-null  object \n",
      " 6   CompTotal                     34826 non-null  float64\n",
      " 7   ConvertedComp                 34756 non-null  float64\n",
      " 8   Country                       64072 non-null  object \n",
      " 9   CurrencyDesc                  45472 non-null  object \n",
      " 10  CurrencySymbol                45472 non-null  object \n",
      " 11  DatabaseDesireNextYear        44070 non-null  object \n",
      " 12  DatabaseWorkedWith            49537 non-null  object \n",
      " 13  DevType                       49370 non-null  object \n",
      " 14  EdLevel                       57431 non-null  object \n",
      " 15  Employment                    63854 non-null  object \n",
      " 16  Ethnicity                     45948 non-null  object \n",
      " 17  Gender                        50557 non-null  object \n",
      " 18  JobFactors                    49349 non-null  object \n",
      " 19  JobSat                        45194 non-null  object \n",
      " 20  JobSeek                       51727 non-null  object \n",
      " 21  LanguageDesireNextYear        54113 non-null  object \n",
      " 22  LanguageWorkedWith            57378 non-null  object \n",
      " 23  MiscTechDesireNextYear        42379 non-null  object \n",
      " 24  MiscTechWorkedWith            40314 non-null  object \n",
      " 25  NEWCollabToolsDesireNextYear  47287 non-null  object \n",
      " 26  NEWCollabToolsWorkedWith      52883 non-null  object \n",
      " 27  NEWDevOps                     42686 non-null  object \n",
      " 28  NEWDevOpsImpt                 41732 non-null  object \n",
      " 29  NEWEdImpt                     48465 non-null  object \n",
      " 30  NEWJobHunt                    42286 non-null  object \n",
      " 31  NEWJobHuntResearch            41022 non-null  object \n",
      " 32  NEWLearn                      56156 non-null  object \n",
      " 33  NEWOffTopic                   50804 non-null  object \n",
      " 34  NEWOnboardGood                42623 non-null  object \n",
      " 35  NEWOtherComms                 57205 non-null  object \n",
      " 36  NEWOvertime                   43231 non-null  object \n",
      " 37  NEWPurchaseResearch           37321 non-null  object \n",
      " 38  NEWPurpleLink                 54803 non-null  object \n",
      " 39  NEWSOSites                    58275 non-null  object \n",
      " 40  NEWStuck                      54983 non-null  object \n",
      " 41  OpSys                         56228 non-null  object \n",
      " 42  OrgSize                       44334 non-null  object \n",
      " 43  PlatformDesireNextYear        50605 non-null  object \n",
      " 44  PlatformWorkedWith            53843 non-null  object \n",
      " 45  PurchaseWhat                  39364 non-null  object \n",
      " 46  Sexuality                     43992 non-null  object \n",
      " 47  SOAccount                     56805 non-null  object \n",
      " 48  SOComm                        56476 non-null  object \n",
      " 49  SOPartFreq                    46792 non-null  object \n",
      " 50  SOVisitFreq                   56970 non-null  object \n",
      " 51  SurveyEase                    51802 non-null  object \n",
      " 52  SurveyLength                  51701 non-null  object \n",
      " 53  Trans                         49345 non-null  object \n",
      " 54  UndergradMajor                50995 non-null  object \n",
      " 55  WebframeDesireNextYear        40024 non-null  object \n",
      " 56  WebframeWorkedWith            42279 non-null  object \n",
      " 57  WelcomeChange                 52683 non-null  object \n",
      " 58  WorkWeekHrs                   41151 non-null  float64\n",
      " 59  YearsCode                     57684 non-null  object \n",
      " 60  YearsCodePro                  46349 non-null  object \n",
      "dtypes: float64(4), int64(1), object(56)\n",
      "memory usage: 30.0+ MB\n"
     ]
    }
   ],
   "source": [
    "# get info\n",
    "df.info()"
   ]
  },
  {
   "cell_type": "code",
   "execution_count": 5,
   "metadata": {},
   "outputs": [],
   "source": [
    "pd.set_option('display.max_columns', 61)\n",
    "pd.set_option('display.max_rows', 61)"
   ]
  },
  {
   "cell_type": "code",
   "execution_count": 6,
   "metadata": {},
   "outputs": [
    {
     "data": {
      "text/html": [
       "<div>\n",
       "<style scoped>\n",
       "    .dataframe tbody tr th:only-of-type {\n",
       "        vertical-align: middle;\n",
       "    }\n",
       "\n",
       "    .dataframe tbody tr th {\n",
       "        vertical-align: top;\n",
       "    }\n",
       "\n",
       "    .dataframe thead th {\n",
       "        text-align: right;\n",
       "    }\n",
       "</style>\n",
       "<table border=\"1\" class=\"dataframe\">\n",
       "  <thead>\n",
       "    <tr style=\"text-align: right;\">\n",
       "      <th></th>\n",
       "      <th>Column</th>\n",
       "      <th>QuestionText</th>\n",
       "    </tr>\n",
       "  </thead>\n",
       "  <tbody>\n",
       "    <tr>\n",
       "      <th>0</th>\n",
       "      <td>Respondent</td>\n",
       "      <td>Randomized respondent ID number (not in order ...</td>\n",
       "    </tr>\n",
       "    <tr>\n",
       "      <th>1</th>\n",
       "      <td>MainBranch</td>\n",
       "      <td>Which of the following options best describes ...</td>\n",
       "    </tr>\n",
       "    <tr>\n",
       "      <th>2</th>\n",
       "      <td>Hobbyist</td>\n",
       "      <td>Do you code as a hobby?</td>\n",
       "    </tr>\n",
       "    <tr>\n",
       "      <th>3</th>\n",
       "      <td>Age</td>\n",
       "      <td>What is your age (in years)? If you prefer not...</td>\n",
       "    </tr>\n",
       "    <tr>\n",
       "      <th>4</th>\n",
       "      <td>Age1stCode</td>\n",
       "      <td>At what age did you write your first line of c...</td>\n",
       "    </tr>\n",
       "    <tr>\n",
       "      <th>5</th>\n",
       "      <td>CompFreq</td>\n",
       "      <td>Is that compensation weekly, monthly, or yearly?</td>\n",
       "    </tr>\n",
       "    <tr>\n",
       "      <th>6</th>\n",
       "      <td>CompTotal</td>\n",
       "      <td>What is your current total compensation (salar...</td>\n",
       "    </tr>\n",
       "    <tr>\n",
       "      <th>7</th>\n",
       "      <td>ConvertedComp</td>\n",
       "      <td>Salary converted to annual USD salaries using ...</td>\n",
       "    </tr>\n",
       "    <tr>\n",
       "      <th>8</th>\n",
       "      <td>Country</td>\n",
       "      <td>Where do you live?</td>\n",
       "    </tr>\n",
       "    <tr>\n",
       "      <th>9</th>\n",
       "      <td>CurrencyDesc</td>\n",
       "      <td>Which currency do you use day-to-day? If your ...</td>\n",
       "    </tr>\n",
       "  </tbody>\n",
       "</table>\n",
       "</div>"
      ],
      "text/plain": [
       "          Column                                       QuestionText\n",
       "0     Respondent  Randomized respondent ID number (not in order ...\n",
       "1     MainBranch  Which of the following options best describes ...\n",
       "2       Hobbyist                            Do you code as a hobby?\n",
       "3            Age  What is your age (in years)? If you prefer not...\n",
       "4     Age1stCode  At what age did you write your first line of c...\n",
       "5       CompFreq   Is that compensation weekly, monthly, or yearly?\n",
       "6      CompTotal  What is your current total compensation (salar...\n",
       "7  ConvertedComp  Salary converted to annual USD salaries using ...\n",
       "8        Country                                 Where do you live?\n",
       "9   CurrencyDesc  Which currency do you use day-to-day? If your ..."
      ]
     },
     "execution_count": 6,
     "metadata": {},
     "output_type": "execute_result"
    }
   ],
   "source": [
    "schema_df = pd.read_csv('data/survey_results_schema.csv')\n",
    "\n",
    "# read top 10. default is 5\n",
    "schema_df.head(10) \n"
   ]
  },
  {
   "cell_type": "markdown",
   "metadata": {},
   "source": [
    "### Series\n",
    "Series is a one-dimensional array like structure with homogeneous data."
   ]
  },
  {
   "cell_type": "markdown",
   "metadata": {},
   "source": [
    "### Dataframes\n",
    "DataFrame is a two-dimensional array with heterogeneous data."
   ]
  },
  {
   "cell_type": "code",
   "execution_count": 7,
   "metadata": {},
   "outputs": [
    {
     "data": {
      "text/html": [
       "<div>\n",
       "<style scoped>\n",
       "    .dataframe tbody tr th:only-of-type {\n",
       "        vertical-align: middle;\n",
       "    }\n",
       "\n",
       "    .dataframe tbody tr th {\n",
       "        vertical-align: top;\n",
       "    }\n",
       "\n",
       "    .dataframe thead th {\n",
       "        text-align: right;\n",
       "    }\n",
       "</style>\n",
       "<table border=\"1\" class=\"dataframe\">\n",
       "  <thead>\n",
       "    <tr style=\"text-align: right;\">\n",
       "      <th></th>\n",
       "      <th>first</th>\n",
       "      <th>last</th>\n",
       "      <th>email</th>\n",
       "    </tr>\n",
       "  </thead>\n",
       "  <tbody>\n",
       "    <tr>\n",
       "      <th>0</th>\n",
       "      <td>Corey</td>\n",
       "      <td>Schafer</td>\n",
       "      <td>CoreyMSchafer@gmail.com</td>\n",
       "    </tr>\n",
       "    <tr>\n",
       "      <th>1</th>\n",
       "      <td>Jane</td>\n",
       "      <td>Doe</td>\n",
       "      <td>JaneDoe@email.com</td>\n",
       "    </tr>\n",
       "    <tr>\n",
       "      <th>2</th>\n",
       "      <td>John</td>\n",
       "      <td>Doe</td>\n",
       "      <td>JohnDoe@email.com</td>\n",
       "    </tr>\n",
       "  </tbody>\n",
       "</table>\n",
       "</div>"
      ],
      "text/plain": [
       "   first     last                    email\n",
       "0  Corey  Schafer  CoreyMSchafer@gmail.com\n",
       "1   Jane      Doe        JaneDoe@email.com\n",
       "2   John      Doe        JohnDoe@email.com"
      ]
     },
     "execution_count": 7,
     "metadata": {},
     "output_type": "execute_result"
    }
   ],
   "source": [
    "# converting dictionary into dataframe\n",
    "people = {\n",
    "    \"first\": [\"Corey\", 'Jane', 'John'], \n",
    "    \"last\": [\"Schafer\", 'Doe', 'Doe'], \n",
    "    \"email\": [\"CoreyMSchafer@gmail.com\", 'JaneDoe@email.com', 'JohnDoe@email.com']\n",
    "}\n",
    "\n",
    "df1 = pd.DataFrame(people)\n",
    "\n",
    "df1"
   ]
  },
  {
   "cell_type": "code",
   "execution_count": 8,
   "metadata": {},
   "outputs": [
    {
     "name": "stdout",
     "output_type": "stream",
     "text": [
      "0    Schafer\n",
      "1        Doe\n",
      "2        Doe\n",
      "Name: last, dtype: object\n"
     ]
    },
    {
     "data": {
      "text/html": [
       "<div>\n",
       "<style scoped>\n",
       "    .dataframe tbody tr th:only-of-type {\n",
       "        vertical-align: middle;\n",
       "    }\n",
       "\n",
       "    .dataframe tbody tr th {\n",
       "        vertical-align: top;\n",
       "    }\n",
       "\n",
       "    .dataframe thead th {\n",
       "        text-align: right;\n",
       "    }\n",
       "</style>\n",
       "<table border=\"1\" class=\"dataframe\">\n",
       "  <thead>\n",
       "    <tr style=\"text-align: right;\">\n",
       "      <th></th>\n",
       "      <th>first</th>\n",
       "      <th>email</th>\n",
       "    </tr>\n",
       "  </thead>\n",
       "  <tbody>\n",
       "    <tr>\n",
       "      <th>0</th>\n",
       "      <td>Corey</td>\n",
       "      <td>CoreyMSchafer@gmail.com</td>\n",
       "    </tr>\n",
       "    <tr>\n",
       "      <th>1</th>\n",
       "      <td>Jane</td>\n",
       "      <td>JaneDoe@email.com</td>\n",
       "    </tr>\n",
       "    <tr>\n",
       "      <th>2</th>\n",
       "      <td>John</td>\n",
       "      <td>JohnDoe@email.com</td>\n",
       "    </tr>\n",
       "  </tbody>\n",
       "</table>\n",
       "</div>"
      ],
      "text/plain": [
       "   first                    email\n",
       "0  Corey  CoreyMSchafer@gmail.com\n",
       "1   Jane        JaneDoe@email.com\n",
       "2   John        JohnDoe@email.com"
      ]
     },
     "execution_count": 8,
     "metadata": {},
     "output_type": "execute_result"
    }
   ],
   "source": [
    "# access single column\n",
    "print(df1['last'])\n",
    "\n",
    "# access multiple columns\n",
    "df1[['first','email']]"
   ]
  },
  {
   "cell_type": "code",
   "execution_count": 9,
   "metadata": {},
   "outputs": [
    {
     "data": {
      "text/plain": [
       "Index(['first', 'last', 'email'], dtype='object')"
      ]
     },
     "execution_count": 9,
     "metadata": {},
     "output_type": "execute_result"
    }
   ],
   "source": [
    "# grab the columns\n",
    "df1.columns"
   ]
  },
  {
   "cell_type": "code",
   "execution_count": 10,
   "metadata": {},
   "outputs": [
    {
     "data": {
      "text/plain": [
       "0    CoreyMSchafer@gmail.com\n",
       "2          JohnDoe@email.com\n",
       "Name: email, dtype: object"
      ]
     },
     "execution_count": 10,
     "metadata": {},
     "output_type": "execute_result"
    }
   ],
   "source": [
    "# get a row with loc and iloc\n",
    "\n",
    "# with iloc we search with index\n",
    "df1.iloc[[0,2], 2]"
   ]
  },
  {
   "cell_type": "code",
   "execution_count": 11,
   "metadata": {},
   "outputs": [
    {
     "data": {
      "text/html": [
       "<div>\n",
       "<style scoped>\n",
       "    .dataframe tbody tr th:only-of-type {\n",
       "        vertical-align: middle;\n",
       "    }\n",
       "\n",
       "    .dataframe tbody tr th {\n",
       "        vertical-align: top;\n",
       "    }\n",
       "\n",
       "    .dataframe thead th {\n",
       "        text-align: right;\n",
       "    }\n",
       "</style>\n",
       "<table border=\"1\" class=\"dataframe\">\n",
       "  <thead>\n",
       "    <tr style=\"text-align: right;\">\n",
       "      <th></th>\n",
       "      <th>last</th>\n",
       "      <th>email</th>\n",
       "    </tr>\n",
       "  </thead>\n",
       "  <tbody>\n",
       "    <tr>\n",
       "      <th>0</th>\n",
       "      <td>Schafer</td>\n",
       "      <td>CoreyMSchafer@gmail.com</td>\n",
       "    </tr>\n",
       "    <tr>\n",
       "      <th>1</th>\n",
       "      <td>Doe</td>\n",
       "      <td>JaneDoe@email.com</td>\n",
       "    </tr>\n",
       "  </tbody>\n",
       "</table>\n",
       "</div>"
      ],
      "text/plain": [
       "      last                    email\n",
       "0  Schafer  CoreyMSchafer@gmail.com\n",
       "1      Doe        JaneDoe@email.com"
      ]
     },
     "execution_count": 11,
     "metadata": {},
     "output_type": "execute_result"
    }
   ],
   "source": [
    "# with loc we search with label\n",
    "df1.loc[[0,1], ['last','email']]"
   ]
  },
  {
   "cell_type": "code",
   "execution_count": 12,
   "metadata": {},
   "outputs": [
    {
     "data": {
      "text/plain": [
       "Yes    50388\n",
       "No     14028\n",
       "Name: Hobbyist, dtype: int64"
      ]
     },
     "execution_count": 12,
     "metadata": {},
     "output_type": "execute_result"
    }
   ],
   "source": [
    "# find from survey how many users code as `hobby`\n",
    "df['Hobbyist'].value_counts()"
   ]
  },
  {
   "cell_type": "code",
   "execution_count": 13,
   "metadata": {},
   "outputs": [
    {
     "data": {
      "text/html": [
       "<div>\n",
       "<style scoped>\n",
       "    .dataframe tbody tr th:only-of-type {\n",
       "        vertical-align: middle;\n",
       "    }\n",
       "\n",
       "    .dataframe tbody tr th {\n",
       "        vertical-align: top;\n",
       "    }\n",
       "\n",
       "    .dataframe thead th {\n",
       "        text-align: right;\n",
       "    }\n",
       "</style>\n",
       "<table border=\"1\" class=\"dataframe\">\n",
       "  <thead>\n",
       "    <tr style=\"text-align: right;\">\n",
       "      <th></th>\n",
       "      <th>Hobbyist</th>\n",
       "      <th>Age</th>\n",
       "      <th>Age1stCode</th>\n",
       "      <th>CompFreq</th>\n",
       "    </tr>\n",
       "  </thead>\n",
       "  <tbody>\n",
       "    <tr>\n",
       "      <th>0</th>\n",
       "      <td>Yes</td>\n",
       "      <td>NaN</td>\n",
       "      <td>13</td>\n",
       "      <td>Monthly</td>\n",
       "    </tr>\n",
       "    <tr>\n",
       "      <th>1</th>\n",
       "      <td>No</td>\n",
       "      <td>NaN</td>\n",
       "      <td>19</td>\n",
       "      <td>NaN</td>\n",
       "    </tr>\n",
       "    <tr>\n",
       "      <th>2</th>\n",
       "      <td>Yes</td>\n",
       "      <td>NaN</td>\n",
       "      <td>15</td>\n",
       "      <td>NaN</td>\n",
       "    </tr>\n",
       "    <tr>\n",
       "      <th>3</th>\n",
       "      <td>Yes</td>\n",
       "      <td>25.0</td>\n",
       "      <td>18</td>\n",
       "      <td>NaN</td>\n",
       "    </tr>\n",
       "    <tr>\n",
       "      <th>4</th>\n",
       "      <td>Yes</td>\n",
       "      <td>31.0</td>\n",
       "      <td>16</td>\n",
       "      <td>NaN</td>\n",
       "    </tr>\n",
       "    <tr>\n",
       "      <th>5</th>\n",
       "      <td>No</td>\n",
       "      <td>NaN</td>\n",
       "      <td>14</td>\n",
       "      <td>NaN</td>\n",
       "    </tr>\n",
       "    <tr>\n",
       "      <th>6</th>\n",
       "      <td>Yes</td>\n",
       "      <td>NaN</td>\n",
       "      <td>18</td>\n",
       "      <td>Monthly</td>\n",
       "    </tr>\n",
       "    <tr>\n",
       "      <th>7</th>\n",
       "      <td>Yes</td>\n",
       "      <td>36.0</td>\n",
       "      <td>12</td>\n",
       "      <td>Yearly</td>\n",
       "    </tr>\n",
       "    <tr>\n",
       "      <th>8</th>\n",
       "      <td>No</td>\n",
       "      <td>30.0</td>\n",
       "      <td>20</td>\n",
       "      <td>NaN</td>\n",
       "    </tr>\n",
       "    <tr>\n",
       "      <th>9</th>\n",
       "      <td>Yes</td>\n",
       "      <td>22.0</td>\n",
       "      <td>14</td>\n",
       "      <td>Yearly</td>\n",
       "    </tr>\n",
       "    <tr>\n",
       "      <th>10</th>\n",
       "      <td>Yes</td>\n",
       "      <td>23.0</td>\n",
       "      <td>13</td>\n",
       "      <td>Yearly</td>\n",
       "    </tr>\n",
       "  </tbody>\n",
       "</table>\n",
       "</div>"
      ],
      "text/plain": [
       "   Hobbyist   Age Age1stCode CompFreq\n",
       "0       Yes   NaN         13  Monthly\n",
       "1        No   NaN         19      NaN\n",
       "2       Yes   NaN         15      NaN\n",
       "3       Yes  25.0         18      NaN\n",
       "4       Yes  31.0         16      NaN\n",
       "5        No   NaN         14      NaN\n",
       "6       Yes   NaN         18  Monthly\n",
       "7       Yes  36.0         12   Yearly\n",
       "8        No  30.0         20      NaN\n",
       "9       Yes  22.0         14   Yearly\n",
       "10      Yes  23.0         13   Yearly"
      ]
     },
     "execution_count": 13,
     "metadata": {},
     "output_type": "execute_result"
    }
   ],
   "source": [
    "# get first 10 hobbyist to CompFreq\n",
    "df.loc[0:10, 'Hobbyist':'CompFreq']"
   ]
  },
  {
   "cell_type": "markdown",
   "metadata": {},
   "source": [
    "### Indexes"
   ]
  },
  {
   "cell_type": "code",
   "execution_count": 14,
   "metadata": {},
   "outputs": [
    {
     "name": "stdout",
     "output_type": "stream",
     "text": [
      "Index(['CoreyMSchafer@gmail.com', 'JaneDoe@email.com', 'JohnDoe@email.com'], dtype='object', name='email')\n"
     ]
    },
    {
     "data": {
      "text/plain": [
       "first    John\n",
       "last      Doe\n",
       "Name: JohnDoe@email.com, dtype: object"
      ]
     },
     "execution_count": 14,
     "metadata": {},
     "output_type": "execute_result"
    }
   ],
   "source": [
    "df1.set_index('email', inplace=True)\n",
    "\n",
    "print(df1.index)\n",
    "\n",
    "# access an index\n",
    "df1.loc['JohnDoe@email.com']"
   ]
  },
  {
   "cell_type": "code",
   "execution_count": null,
   "metadata": {},
   "outputs": [],
   "source": []
  },
  {
   "cell_type": "code",
   "execution_count": null,
   "metadata": {},
   "outputs": [],
   "source": []
  }
 ],
 "metadata": {
  "kernelspec": {
   "display_name": "Python 3",
   "language": "python",
   "name": "python3"
  },
  "language_info": {
   "codemirror_mode": {
    "name": "ipython",
    "version": 3
   },
   "file_extension": ".py",
   "mimetype": "text/x-python",
   "name": "python",
   "nbconvert_exporter": "python",
   "pygments_lexer": "ipython3",
   "version": "3.7.6"
  }
 },
 "nbformat": 4,
 "nbformat_minor": 4
}
